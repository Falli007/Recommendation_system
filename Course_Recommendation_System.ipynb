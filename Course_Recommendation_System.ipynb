{
  "nbformat": 4,
  "nbformat_minor": 0,
  "metadata": {
    "colab": {
      "provenance": []
    },
    "kernelspec": {
      "name": "python3",
      "display_name": "Python 3"
    },
    "language_info": {
      "name": "python"
    }
  },
  "cells": [
    {
      "cell_type": "code",
      "execution_count": 1,
      "metadata": {
        "id": "swPn7AZxZsnj"
      },
      "outputs": [],
      "source": [
        "import numpy as np\n",
        "import pandas as pd\n",
        "from sklearn.feature_extraction.text import TfidfVectorizer\n",
        "from sklearn.metrics.pairwise import cosine_similarity"
      ]
    },
    {
      "cell_type": "markdown",
      "source": [
        "A course recommendation system suggests courses to users based on:\n",
        "\n",
        "User learning history (e.g., topics previously studied, skill level)\n",
        "\n",
        "Course content (e.g., course description, difficulty level)\n",
        "\n",
        "In this project, I’ll build a course recommendation system that uses text similarity techniques (like TF-IDF or word embeddings) to recommend courses based on the user’s learning preferences and course descriptions."
      ],
      "metadata": {
        "id": "FyPqr3Opbs2r"
      }
    },
    {
      "cell_type": "code",
      "source": [
        "# 1.Simulating course listings and course descriptions\n",
        "courses = ['Python Programming', 'Data Science Bootcamp', 'Machine Learning Basics', 'Deep Learning Mastery', 'Web Development with Django']\n",
        "course_descriptions = [\n",
        "    \"Learn the basics of Python programming including variables, data types, and control flow.\",\n",
        "    \"An intensive bootcamp on data science concepts including data analysis, machine learning, and visualization.\",\n",
        "    \"Introduction to machine learning, covering algorithms like regression, classification, and clustering.\",\n",
        "    \"Master deep learning techniques including neural networks, CNNs, and RNNs for advanced AI applications.\",\n",
        "    \"Learn how to develop full-stack web applications using Django, HTML, CSS, and JavaScript.\"\n",
        "]"
      ],
      "metadata": {
        "id": "F6TFTMsGbyvt"
      },
      "execution_count": 2,
      "outputs": []
    },
    {
      "cell_type": "code",
      "source": [
        "# 2.Simulating user learning history (topics they have studied or are interested in)\n",
        "user_profile = \"I have experience in Python programming and machine learning basics, and I am interested in deep learning.\""
      ],
      "metadata": {
        "id": "E1deXuGXb4rI"
      },
      "execution_count": 3,
      "outputs": []
    },
    {
      "cell_type": "code",
      "source": [
        "# 3.Using TF-IDF to convert course descriptions and user profile into numerical features\n",
        "vectorizer = TfidfVectorizer(stop_words='english')\n",
        "tfidf_matrix = vectorizer.fit_transform(course_descriptions + [user_profile])  # Combining course descriptions and user profile"
      ],
      "metadata": {
        "id": "v27KoUgBcKOV"
      },
      "execution_count": 4,
      "outputs": []
    },
    {
      "cell_type": "code",
      "source": [
        "# 4.Functioning to recommend courses based on the user profile similarity to course descriptions\n",
        "def course_recommendation(user_profile, courses, tfidf_matrix, top_n=3):\n",
        "    # Computing the cosine similarity between the user profile and course descriptions\n",
        "    cosine_sim = cosine_similarity(tfidf_matrix[-1], tfidf_matrix[:-1]).flatten()\n",
        "\n",
        "    # Getting the indices of the most similar courses\n",
        "    similar_indices = cosine_sim.argsort()[-top_n:][::-1]\n",
        "\n",
        "    recommended_courses = [courses[i] for i in similar_indices]\n",
        "    return recommended_courses"
      ],
      "metadata": {
        "id": "jbOTsNgYcXtg"
      },
      "execution_count": 5,
      "outputs": []
    },
    {
      "cell_type": "code",
      "source": [
        "#5. Recommend courses based on the imilarity of the user profile\n",
        "recommended_courses = course_recommendation(user_profile, courses, tfidf_matrix)\n",
        "print(f\"Course Recommendations based on your profile: {recommended_courses}\")\n"
      ],
      "metadata": {
        "colab": {
          "base_uri": "https://localhost:8080/"
        },
        "id": "FgHncKkMcgmt",
        "outputId": "75d2ae9e-2ccf-4125-b287-dc3a1053b20b"
      },
      "execution_count": 8,
      "outputs": [
        {
          "output_type": "stream",
          "name": "stdout",
          "text": [
            "Course Recommendations based on your profile: ['Python Programming', 'Deep Learning Mastery', 'Machine Learning Basics']\n"
          ]
        }
      ]
    }
  ]
}