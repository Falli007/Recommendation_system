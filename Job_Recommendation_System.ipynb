{
  "nbformat": 4,
  "nbformat_minor": 0,
  "metadata": {
    "colab": {
      "provenance": []
    },
    "kernelspec": {
      "name": "python3",
      "display_name": "Python 3"
    },
    "language_info": {
      "name": "python"
    }
  },
  "cells": [
    {
      "cell_type": "code",
      "execution_count": 1,
      "metadata": {
        "id": "7OMrtKSuVa6o"
      },
      "outputs": [],
      "source": [
        "#importing libraries\n",
        "import numpy as np\n",
        "import pandas as pd\n",
        "from sklearn.feature_extraction.text import TfidfVectorizer\n",
        "from sklearn.metrics.pairwise import cosine_similarity"
      ]
    },
    {
      "cell_type": "code",
      "source": [
        "# 1. Simulating the job listings and job descriptions\n",
        "jobs = ['Software Engineer', 'Data Scientist', 'Product Manager', 'UX Designer', 'Marketing Specialist']\n",
        "job_descriptions = [\n",
        "    \"Develop software applications, write clean code, and work with other engineers.\",\n",
        "    \"Analyze large datasets, build machine learning models, and conduct data analysis.\",\n",
        "    \"Lead product development, define product strategy, and work with cross-functional teams.\",\n",
        "    \"Design user experiences for web and mobile applications, conducting user research and testing.\",\n",
        "    \"Create marketing campaigns, analyze market trends, and optimize digital marketing strategies.\"\n",
        "]"
      ],
      "metadata": {
        "id": "BlKFH1D9V2Eg"
      },
      "execution_count": 2,
      "outputs": []
    },
    {
      "cell_type": "code",
      "source": [
        "# 2. Simulating user qualifications (skills, experience, etc.)\n",
        "user_profile = \"I have experience in software development, Python programming, and working with machine learning models.\""
      ],
      "metadata": {
        "id": "V_uZJkdVWWuI"
      },
      "execution_count": 3,
      "outputs": []
    },
    {
      "cell_type": "code",
      "source": [
        "# 3. Using TF-IDF to convert job descriptions and user profile into numerical features\n",
        "vectorizer = TfidfVectorizer(stop_words='english')\n",
        "tfidf_matrix = vectorizer.fit_transform(job_descriptions + [user_profile])  # Combining job descriptions and user profile\n",
        ""
      ],
      "metadata": {
        "id": "ZJvn6zrUXIGp"
      },
      "execution_count": 4,
      "outputs": []
    },
    {
      "cell_type": "code",
      "source": [
        "# 4. Functions to recommend jobs based on the user profile similarity to job descriptions\n",
        "def job_recommendation(user_profile, jobs, tfidf_matrix, top_n=3):\n",
        "    # Compute the cosine similarity between the user profile and job descriptions\n",
        "    cosine_sim = cosine_similarity(tfidf_matrix[-1], tfidf_matrix[:-1]).flatten()\n",
        "     # Getting the indices of the most similar jobs\n",
        "    similar_indices = cosine_sim.argsort()[-top_n:][::-1]\n",
        "\n",
        "    recommended_jobs = [jobs[i] for i in similar_indices]\n",
        "    return recommended_jobs"
      ],
      "metadata": {
        "id": "Wpfg6gvLXeCa"
      },
      "execution_count": 5,
      "outputs": []
    },
    {
      "cell_type": "code",
      "source": [
        "# 5. Recommending jobs based on the similarity to the user profile\n",
        "recommended_jobs = job_recommendation(user_profile, jobs, tfidf_matrix)\n",
        "print(f\"Job Recommendations based on your profile: {recommended_jobs}\")"
      ],
      "metadata": {
        "colab": {
          "base_uri": "https://localhost:8080/"
        },
        "id": "WPlr4NenX0YF",
        "outputId": "0e940f23-d590-4e6f-c3a5-8dabb5bc4d93"
      },
      "execution_count": 6,
      "outputs": [
        {
          "output_type": "stream",
          "name": "stdout",
          "text": [
            "Job Recommendations based on your profile: ['Data Scientist', 'Software Engineer', 'Product Manager']\n"
          ]
        }
      ]
    }
  ]
}