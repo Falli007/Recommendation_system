{
  "nbformat": 4,
  "nbformat_minor": 0,
  "metadata": {
    "colab": {
      "provenance": []
    },
    "kernelspec": {
      "name": "python3",
      "display_name": "Python 3"
    },
    "language_info": {
      "name": "python"
    }
  },
  "cells": [
    {
      "cell_type": "code",
      "execution_count": 1,
      "metadata": {
        "id": "4eHpuToNgDz_"
      },
      "outputs": [],
      "source": [
        "#importing the libraries\n",
        "import numpy as np\n",
        "import pandas as pd\n",
        "from sklearn.feature_extraction.text import TfidfVectorizer\n",
        "from sklearn.metrics.pairwise import cosine_similarity"
      ]
    },
    {
      "cell_type": "markdown",
      "source": [
        "###A travel recommendation system suggests travel destinations to users based on:\n",
        "\n",
        "User preferences (e.g., interests, budget, travel style)\n",
        "\n",
        "Destination features (e.g., climate, culture, activities)\n",
        "\n",
        "In this project, I’ll create a travel recommendation system using content-based filtering, where we recommend destinations based on their features and the user’s preferences."
      ],
      "metadata": {
        "id": "pBk7stGkgff6"
      }
    },
    {
      "cell_type": "code",
      "source": [
        "# 1.Simulating travel destinations and their features (e.g., climate, activities, culture)\n",
        "destinations = ['Paris', 'New York', 'Tokyo', 'Sydney', 'Barcelona']\n",
        "destination_features = [\n",
        "    \"Romantic city with iconic landmarks, museums, and fine dining experiences.\",\n",
        "    \"Vibrant city with famous landmarks, diverse culture, and bustling nightlife.\",\n",
        "    \"A city with cutting-edge technology, rich culture, and unique culinary experiences.\",\n",
        "    \"A city with beautiful beaches, iconic landmarks, and a laid-back lifestyle.\",\n",
        "    \"A city known for its architecture, history, beaches, and vibrant nightlife.\"\n",
        "]"
      ],
      "metadata": {
        "id": "9fyaqCujg6tB"
      },
      "execution_count": 2,
      "outputs": []
    },
    {
      "cell_type": "code",
      "source": [
        "# 2. Simulate user preferences (interests, travel style, etc.)\n",
        "user_profile = \"I enjoy a place with nice historical landmarks and where I can party.\"\n",
        ""
      ],
      "metadata": {
        "id": "VZffstnwoOZc"
      },
      "execution_count": 3,
      "outputs": []
    },
    {
      "cell_type": "code",
      "source": [
        "# 3. Use TF-IDF to convert destination features and user profile into numerical features\n",
        "vectorizer = TfidfVectorizer(stop_words='english')\n",
        "tfidf_matrix = vectorizer.fit_transform(destination_features + [user_profile])  # Combine destination features and user profile\n",
        ""
      ],
      "metadata": {
        "id": "4dFUVsT8oiaK"
      },
      "execution_count": 4,
      "outputs": []
    },
    {
      "cell_type": "code",
      "source": [
        "# 4. Function to recommend travel destinations based on user preferences\n",
        "def travel_recommendation(user_profile, destinations, tfidf_matrix, top_n=3):\n",
        "    # Compute the cosine similarity between the user profile and destination features\n",
        "    cosine_sim = cosine_similarity(tfidf_matrix[-1], tfidf_matrix[:-1]).flatten()\n",
        "\n",
        "    # Get the indices of the most similar destinations\n",
        "    similar_indices = cosine_sim.argsort()[-top_n:][::-1]\n",
        "\n",
        "    recommended_destinations = [destinations[i] for i in similar_indices]\n",
        "    return recommended_destinations"
      ],
      "metadata": {
        "id": "gQtaOAJopebd"
      },
      "execution_count": 5,
      "outputs": []
    },
    {
      "cell_type": "code",
      "source": [
        "# 5. Recommend travel destinations based on the user profile\n",
        "recommended_destinations = travel_recommendation(user_profile, destinations, tfidf_matrix)\n",
        "print(f\"Travel Recommendations based on your profile: {recommended_destinations}\")"
      ],
      "metadata": {
        "colab": {
          "base_uri": "https://localhost:8080/"
        },
        "id": "5lMQCZ0LpkKi",
        "outputId": "a10838a2-3036-4c34-bf64-2734ef25ad3d"
      },
      "execution_count": 6,
      "outputs": [
        {
          "output_type": "stream",
          "name": "stdout",
          "text": [
            "Travel Recommendations based on your profile: ['Sydney', 'New York', 'Paris']\n"
          ]
        }
      ]
    }
  ]
}