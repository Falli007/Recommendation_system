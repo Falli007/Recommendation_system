{
  "nbformat": 4,
  "nbformat_minor": 0,
  "metadata": {
    "colab": {
      "provenance": []
    },
    "kernelspec": {
      "name": "python3",
      "display_name": "Python 3"
    },
    "language_info": {
      "name": "python"
    }
  },
  "cells": [
    {
      "cell_type": "code",
      "execution_count": 1,
      "metadata": {
        "id": "4XXchdqtdxK-"
      },
      "outputs": [],
      "source": [
        "#umporting all libraries\n",
        "import numpy as np\n",
        "import pandas as pd\n",
        "from sklearn.feature_extraction.text import TfidfVectorizer\n",
        "from sklearn.metrics.pairwise import cosine_similarity\n",
        ""
      ]
    },
    {
      "cell_type": "markdown",
      "source": [
        "A movie recommendation system suggests movies to users based on:\n",
        "\n",
        "User interests (e.g., preferred genres, actors, directors)\n",
        "\n",
        "Movie features (e.g., genre, cast, plot description)\n",
        "\n",
        "In this project, I’ll build a movie recommendation system using content-based filtering, where I recommend movies based on their features and the user’s preferences."
      ],
      "metadata": {
        "id": "twZTmgu4d5jd"
      }
    },
    {
      "cell_type": "code",
      "source": [
        "# 1. Simulating movie listings and their features (e.g., genre, plot, actors)\n",
        "movies = ['The Matrix', 'Inception', 'The Dark Knight', 'The Social Network', 'Forrest Gump']\n",
        "movie_features = [\n",
        "    \"A hacker discovers a dystopian world where machines control humanity, featuring cyberpunk themes.\",\n",
        "    \"A mind-bending thriller about a thief who enters dreams to steal secrets, exploring dreams and reality.\",\n",
        "    \"A billionaire playboy turns into a vigilante hero in Gotham City, fighting crime and corruption.\",\n",
        "    \"The story of Facebook's creation, focusing on the social and legal challenges behind its success.\",\n",
        "    \"A simple man with a kind heart tells the story of his extraordinary life, from the Vietnam War to running a shrimp company.\"\n",
        "]"
      ],
      "metadata": {
        "id": "uNFHw2vod2GE"
      },
      "execution_count": 2,
      "outputs": []
    },
    {
      "cell_type": "code",
      "source": [
        "# 2. Simulating user preferences (e.g., favorite genres, actors, themes)\n",
        "user_profile = \"I love science fiction and action movies with strong plot twists.\""
      ],
      "metadata": {
        "id": "HAYP_QJEfMkn"
      },
      "execution_count": 3,
      "outputs": []
    },
    {
      "cell_type": "markdown",
      "source": [
        "###TF-IDF to convert movie features (e.g., genre, plot) and the user profile into numerical features"
      ],
      "metadata": {
        "id": "iM6sWaZHgOe6"
      }
    },
    {
      "cell_type": "code",
      "source": [
        "# 3. Using TF-IDF to convert movie features and user profile into numerical features\n",
        "vectorizer = TfidfVectorizer(stop_words='english')\n",
        "tfidf_matrix = vectorizer.fit_transform(movie_features + [user_profile])  # Combine movie features and user profile"
      ],
      "metadata": {
        "id": "ArEi99--fRK_"
      },
      "execution_count": 4,
      "outputs": []
    },
    {
      "cell_type": "markdown",
      "source": [
        "###Computing cosine similarity to measure how similar the user’s preferences are to each movie’s features"
      ],
      "metadata": {
        "id": "Nn8Ir2KsgWbr"
      }
    },
    {
      "cell_type": "code",
      "source": [
        "# 4. Functions to recommend movies based on user preferences\n",
        "def movie_recommendation(user_profile, movies, tfidf_matrix, top_n=3):\n",
        "    # Compute the cosine similarity between the user profile and movie features\n",
        "    cosine_sim = cosine_similarity(tfidf_matrix[-1], tfidf_matrix[:-1]).flatten()\n",
        "\n",
        "    # Get the indices of the most similar movies\n",
        "    similar_indices = cosine_sim.argsort()[-top_n:][::-1]\n",
        "\n",
        "    recommended_movies = [movies[i] for i in similar_indices]\n",
        "    return recommended_movies"
      ],
      "metadata": {
        "id": "q0vEjujXfVk5"
      },
      "execution_count": 5,
      "outputs": []
    },
    {
      "cell_type": "code",
      "source": [
        " # 5. Recommending movies based on the user profile\n",
        "recommended_movies = movie_recommendation(user_profile, movies, tfidf_matrix)\n",
        "print(f\"Movie Recommendations based on your profile: {recommended_movies}\")"
      ],
      "metadata": {
        "colab": {
          "base_uri": "https://localhost:8080/"
        },
        "id": "mgzQzQ9mfant",
        "outputId": "2477bf57-366b-45e2-f1d7-21af9b2b23de"
      },
      "execution_count": 6,
      "outputs": [
        {
          "output_type": "stream",
          "name": "stdout",
          "text": [
            "Movie Recommendations based on your profile: ['Forrest Gump', 'The Social Network', 'The Dark Knight']\n"
          ]
        }
      ]
    }
  ]
}