{
  "nbformat": 4,
  "nbformat_minor": 0,
  "metadata": {
    "colab": {
      "provenance": []
    },
    "kernelspec": {
      "name": "python3",
      "display_name": "Python 3"
    },
    "language_info": {
      "name": "python"
    }
  },
  "cells": [
    {
      "cell_type": "code",
      "execution_count": 1,
      "metadata": {
        "id": "1oBHn2-vV_hd"
      },
      "outputs": [],
      "source": [
        "#Importing all the libraries\n",
        "import numpy as np\n",
        "import pandas as pd\n",
        "from sklearn.feature_extraction.text import TfidfVectorizer\n",
        "from sklearn.metrics.pairwise import cosine_similarity\n",
        ""
      ]
    },
    {
      "cell_type": "markdown",
      "source": [
        "##A restaurant recommendation system suggests restaurants to users based on:\n",
        "\n",
        "User preferences (e.g., cuisine type, budget, location)\n",
        "\n",
        "Restaurant features (e.g., cuisine, ambiance, location)\n",
        "\n",
        "In this project, I’ll build a restaurant recommendation system using content-based filtering, where we recommend restaurants based on the features of the restaurant and the user’s preferences."
      ],
      "metadata": {
        "id": "mhZb1ThgWeCe"
      }
    },
    {
      "cell_type": "code",
      "source": [
        "# 1. Simulate restaurant listings and their features (e.g., cuisine, ambiance, price range)\n",
        "restaurants = ['Italian Bistro', 'Sushi Place', 'Taco Shop', 'French Cafe', 'Indian Spice', 'Nigerian Enish']\n",
        "restaurant_features = [\n",
        "    \"Cozy Italian bistro serving classic pasta, pizza, and wine in a romantic atmosphere.\",\n",
        "    \"Traditional Japanese sushi and sashimi served in a modern, minimalistic ambiance.\",\n",
        "    \"Casual taco shop offering Mexican street food with a vibrant, colorful setting.\",\n",
        "    \"Charming French cafe serving croissants, pastries, and gourmet coffee in an intimate environment.\",\n",
        "    \"Authentic Indian restaurant offering a variety of curries, tandoori dishes, and aromatic spices.\",\n",
        "    \"Enish is a Nigerian restuarant offering Nigerian cuisine in a modern setting serving jollof rice, pounded yam, fried rice abula and other Nigerian dishes.\"\n",
        "]"
      ],
      "metadata": {
        "id": "RAzFSv5SWcWR"
      },
      "execution_count": 2,
      "outputs": []
    },
    {
      "cell_type": "code",
      "source": [
        "# 2. Simulating user preferences (e.g., cuisine, dining style)\n",
        "user_profile = \"I love jollof rice and some snacks like puff puff and suya\""
      ],
      "metadata": {
        "id": "EOyevq08XV-3"
      },
      "execution_count": 7,
      "outputs": []
    },
    {
      "cell_type": "code",
      "source": [
        "# 3. Using TF-IDF to convert restaurant features and user profile into numerical features\n",
        "vectorizer = TfidfVectorizer(stop_words='english')\n",
        "tfidf_matrix = vectorizer.fit_transform(restaurant_features + [user_profile])  # Combining restaurant features and user profile\n",
        ""
      ],
      "metadata": {
        "id": "zeBUaRhpZ9NG"
      },
      "execution_count": 8,
      "outputs": []
    },
    {
      "cell_type": "code",
      "source": [
        "# 4. Functions to recommend restaurants based on user preferences\n",
        "def restaurant_recommendation(user_profile, restaurants, tfidf_matrix, top_n=3):\n",
        "    # Computing the cosine similarity between the user profile and restaurant features\n",
        "    cosine_sim = cosine_similarity(tfidf_matrix[-1], tfidf_matrix[:-1]).flatten()\n",
        "\n",
        "    # Getting the indices of the most similar restaurants\n",
        "    similar_indices = cosine_sim.argsort()[-top_n:][::-1]\n",
        "\n",
        "    recommended_restaurants = [restaurants[i] for i in similar_indices]\n",
        "    return recommended_restaurants\n",
        ""
      ],
      "metadata": {
        "id": "juw467S7b1js"
      },
      "execution_count": 9,
      "outputs": []
    },
    {
      "cell_type": "code",
      "source": [
        "# 5. Recommend restaurants based on the user profile\n",
        "recommended_restaurants = restaurant_recommendation(user_profile, restaurants, tfidf_matrix)\n",
        "print(f\"Restaurant Recommendations based on your profile: {recommended_restaurants}\")"
      ],
      "metadata": {
        "colab": {
          "base_uri": "https://localhost:8080/"
        },
        "id": "PdMNNJ4KcEWc",
        "outputId": "3e86a648-441a-4ae4-dac5-11549c93124d"
      },
      "execution_count": 10,
      "outputs": [
        {
          "output_type": "stream",
          "name": "stdout",
          "text": [
            "Restaurant Recommendations based on your profile: ['Nigerian Enish', 'Indian Spice', 'French Cafe']\n"
          ]
        }
      ]
    }
  ]
}