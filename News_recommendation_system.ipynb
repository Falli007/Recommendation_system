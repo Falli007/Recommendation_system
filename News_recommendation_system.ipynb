{
  "nbformat": 4,
  "nbformat_minor": 0,
  "metadata": {
    "colab": {
      "provenance": []
    },
    "kernelspec": {
      "name": "python3",
      "display_name": "Python 3"
    },
    "language_info": {
      "name": "python"
    }
  },
  "cells": [
    {
      "cell_type": "markdown",
      "source": [
        "##A news recommendation system suggests articles to users based on:\n",
        "\n",
        "User preferences (e.g., topics they’re interested in)\n",
        "\n",
        "Content similarity (e.g., similar articles based on keywords, tags, or article content)\n",
        "\n",
        "In this project, I’ll build a news recommendation system using text similarity techniques (such as TF-IDF or word embeddings) to recommend news articles based on the content."
      ],
      "metadata": {
        "id": "R86EYhw_T2ME"
      }
    },
    {
      "cell_type": "code",
      "execution_count": 1,
      "metadata": {
        "id": "YhP59JMFS5Ax"
      },
      "outputs": [],
      "source": [
        "#import libraries\n",
        "import numpy as np\n",
        "import pandas as pd\n",
        "from sklearn.feature_extraction.text import TfidfVectorizer\n",
        "from sklearn.metrics.pairwise import cosine_similarity\n",
        ""
      ]
    },
    {
      "cell_type": "code",
      "source": [
        "# 1. Simulate news articles and their content\n",
        "articles = ['Article1', 'Article2', 'Article3', 'Article4', 'Article5']\n",
        "content = [\n",
        "    \"Breaking news: A major earthquake has struck the city, causing widespread damage.\",\n",
        "    \"Sports update: The football team won the championship in a thrilling final match.\",\n",
        "    \"Technology breakthrough: New AI advancements are transforming the industry.\",\n",
        "    \"Entertainment news: A new blockbuster movie is breaking records at the box office.\",\n",
        "    \"Health update: Scientists have discovered a new treatment for heart disease.\"\n",
        "]"
      ],
      "metadata": {
        "id": "Z8BnhL_eUD1K"
      },
      "execution_count": 2,
      "outputs": []
    },
    {
      "cell_type": "code",
      "source": [
        "# 2. Using TF-IDF to convert article content into numerical features\n",
        "vectorizer = TfidfVectorizer(stop_words='english')\n",
        "tfidf_matrix = vectorizer.fit_transform(content)"
      ],
      "metadata": {
        "id": "5Yc4CKZ4UJAp"
      },
      "execution_count": 3,
      "outputs": []
    },
    {
      "cell_type": "code",
      "source": [
        "# 3.Function to recommend news articles based on content similarity\n",
        "def news_recommendation(query_article, articles, tfidf_matrix, top_n=3):\n",
        "    # Getting the index of the query article\n",
        "    query_idx = articles.index(query_article)\n",
        "\n",
        "    # Computing the cosine similarity between the query article and all other articles\n",
        "    cosine_sim = cosine_similarity(tfidf_matrix[query_idx:query_idx+1], tfidf_matrix).flatten()\n",
        "\n",
        "    # Getting the indices of the most similar articles\n",
        "    similar_indices = cosine_sim.argsort()[-top_n-1:-1][::-1]  # Exclude the query article itself (index 0)\n",
        "\n",
        "    recommended_articles = [articles[i] for i in similar_indices]\n",
        "    return recommended_articles\n",
        ""
      ],
      "metadata": {
        "id": "SHB4qQbmUU3T"
      },
      "execution_count": 4,
      "outputs": []
    },
    {
      "cell_type": "code",
      "source": [
        "# 4.Recommending articles based on the content similarity of 'Article1'\n",
        "recommended_articles = news_recommendation('Article1', articles, tfidf_matrix)\n",
        "print(f\"News Recommendations for 'Article1': {recommended_articles}\")"
      ],
      "metadata": {
        "colab": {
          "base_uri": "https://localhost:8080/"
        },
        "id": "YIrePHs0UkfO",
        "outputId": "b2c24e94-6e56-49c5-c460-c82d05880427"
      },
      "execution_count": 5,
      "outputs": [
        {
          "output_type": "stream",
          "name": "stdout",
          "text": [
            "News Recommendations for 'Article1': ['Article4', 'Article5', 'Article3']\n"
          ]
        }
      ]
    }
  ]
}