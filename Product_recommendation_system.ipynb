{
  "nbformat": 4,
  "nbformat_minor": 0,
  "metadata": {
    "colab": {
      "provenance": []
    },
    "kernelspec": {
      "name": "python3",
      "display_name": "Python 3"
    },
    "language_info": {
      "name": "python"
    }
  },
  "cells": [
    {
      "cell_type": "code",
      "execution_count": 1,
      "metadata": {
        "id": "N81BKXyxhf7G"
      },
      "outputs": [],
      "source": [
        "import numpy as np\n",
        "import pandas as pd\n",
        "from sklearn.feature_extraction.text import TfidfVectorizer\n",
        "from sklearn.metrics.pairwise import cosine_similarity"
      ]
    },
    {
      "cell_type": "code",
      "source": [
        "# 1. Simulating product listings and their features (e.g., category, price, brand)\n",
        "products = ['Laptop', 'Smartphone', 'Headphones', 'Tablet', 'Smartwatch']\n",
        "product_features = [\n",
        "    \"High-performance laptop with fast processor, large storage, and great battery life.\",\n",
        "    \"Latest smartphone with cutting-edge camera technology, fast processor, and sleek design.\",\n",
        "    \"Noise-cancelling headphones with high-quality sound, perfect for travel or work.\",\n",
        "    \"Lightweight tablet with a high-resolution display, ideal for reading and entertainment.\",\n",
        "    \"Smartwatch with fitness tracking, heart rate monitor, and customizable watch faces.\"\n",
        "]\n",
        "\n"
      ],
      "metadata": {
        "id": "oPrdKRphhoRs"
      },
      "execution_count": 2,
      "outputs": []
    },
    {
      "cell_type": "code",
      "source": [
        "# 2. Simulating user preferences (e.g., favorite categories, brand, price range)\n",
        "user_profile = \"I need a fast laptop with a large screen and long battery life.\"\n",
        ""
      ],
      "metadata": {
        "id": "ezk2a3g2h0zE"
      },
      "execution_count": 3,
      "outputs": []
    },
    {
      "cell_type": "code",
      "source": [
        " # 3. Using TF-IDF to convert product features and user profile into numerical features\n",
        "vectorizer = TfidfVectorizer(stop_words='english')\n",
        "tfidf_matrix = vectorizer.fit_transform(product_features + [user_profile])  # Combining product features and user profile"
      ],
      "metadata": {
        "id": "FUlEOtNCh9yK"
      },
      "execution_count": 4,
      "outputs": []
    },
    {
      "cell_type": "code",
      "source": [
        "# 4. Function to recommend products based on user preferences\n",
        "def product_recommendation(user_profile, products, tfidf_matrix, top_n=3):\n",
        "    # Compute the cosine similarity between the user profile and product features\n",
        "    cosine_sim = cosine_similarity(tfidf_matrix[-1], tfidf_matrix[:-1]).flatten()\n",
        "\n",
        "    # Get the indices of the most similar products\n",
        "    similar_indices = cosine_sim.argsort()[-top_n:][::-1]\n",
        "\n",
        "    recommended_products = [products[i] for i in similar_indices]\n",
        "    return recommended_products"
      ],
      "metadata": {
        "id": "UGaY9N86iCKU"
      },
      "execution_count": 5,
      "outputs": []
    },
    {
      "cell_type": "code",
      "source": [
        "# 5. Recommended products based on the user profile\n",
        "recommended_products = product_recommendation(user_profile, products, tfidf_matrix)\n",
        "print(f\"Product Recommendations based on your profile: {recommended_products}\")"
      ],
      "metadata": {
        "colab": {
          "base_uri": "https://localhost:8080/"
        },
        "id": "OA3yq2r5iB8T",
        "outputId": "b7aeb1ce-1462-453a-cbbc-2d99cf227e6b"
      },
      "execution_count": 6,
      "outputs": [
        {
          "output_type": "stream",
          "name": "stdout",
          "text": [
            "Product Recommendations based on your profile: ['Laptop', 'Smartphone', 'Smartwatch']\n"
          ]
        }
      ]
    }
  ]
}